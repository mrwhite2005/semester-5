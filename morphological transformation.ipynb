{
 "cells": [
  {
   "cell_type": "code",
   "execution_count": 1,
   "id": "5a630b7f-7dff-4b75-9886-5367e6613df4",
   "metadata": {},
   "outputs": [
    {
     "name": "stdout",
     "output_type": "stream",
     "text": [
      "Requirement already satisfied: opencv-python in c:\\users\\aedpu\\anaconda3\\lib\\site-packages (4.9.0.80)\n",
      "Requirement already satisfied: numpy>=1.19.3 in c:\\users\\aedpu\\anaconda3\\lib\\site-packages (from opencv-python) (1.21.5)\n",
      "Note: you may need to restart the kernel to use updated packages.\n"
     ]
    }
   ],
   "source": [
    "pip install opencv-python"
   ]
  },
  {
   "cell_type": "code",
   "execution_count": 2,
   "id": "9b3d7d48-238f-4a53-a405-125e1dea7eec",
   "metadata": {},
   "outputs": [],
   "source": [
    "import cv2\n",
    "import numpy as np"
   ]
  },
  {
   "cell_type": "code",
   "execution_count": 3,
   "id": "286bdfb8-c4ac-4752-90bf-8ee1fe128652",
   "metadata": {},
   "outputs": [
    {
     "name": "stdout",
     "output_type": "stream",
     "text": [
      "Requirement already satisfied: matplotlib in c:\\users\\aedpu\\anaconda3\\lib\\site-packages (3.5.2)\n",
      "Requirement already satisfied: pyparsing>=2.2.1 in c:\\users\\aedpu\\anaconda3\\lib\\site-packages (from matplotlib) (3.0.9)\n",
      "Requirement already satisfied: python-dateutil>=2.7 in c:\\users\\aedpu\\anaconda3\\lib\\site-packages (from matplotlib) (2.8.2)\n",
      "Requirement already satisfied: cycler>=0.10 in c:\\users\\aedpu\\anaconda3\\lib\\site-packages (from matplotlib) (0.11.0)\n",
      "Requirement already satisfied: pillow>=6.2.0 in c:\\users\\aedpu\\anaconda3\\lib\\site-packages (from matplotlib) (9.2.0)\n",
      "Requirement already satisfied: packaging>=20.0 in c:\\users\\aedpu\\anaconda3\\lib\\site-packages (from matplotlib) (21.3)\n",
      "Requirement already satisfied: kiwisolver>=1.0.1 in c:\\users\\aedpu\\anaconda3\\lib\\site-packages (from matplotlib) (1.4.2)\n",
      "Requirement already satisfied: numpy>=1.17 in c:\\users\\aedpu\\anaconda3\\lib\\site-packages (from matplotlib) (1.21.5)\n",
      "Requirement already satisfied: fonttools>=4.22.0 in c:\\users\\aedpu\\anaconda3\\lib\\site-packages (from matplotlib) (4.25.0)\n",
      "Requirement already satisfied: six>=1.5 in c:\\users\\aedpu\\anaconda3\\lib\\site-packages (from python-dateutil>=2.7->matplotlib) (1.16.0)\n",
      "Note: you may need to restart the kernel to use updated packages.\n"
     ]
    }
   ],
   "source": [
    "pip install matplotlib"
   ]
  },
  {
   "cell_type": "code",
   "execution_count": 4,
   "id": "9625fbae-51f6-478a-a407-3dbbce757cca",
   "metadata": {},
   "outputs": [],
   "source": [
    "import matplotlib.pyplot as plt"
   ]
  },
  {
   "cell_type": "code",
   "execution_count": 5,
   "id": "1db48238-c90b-43dc-83a8-f783e62b8d49",
   "metadata": {},
   "outputs": [],
   "source": [
    "img = cv2.VideoCapture(\"C:\\\\Users\\\\aedpu\\\\Downloads\\\\RobotStudio 4-17_1 (1).mp4\",0)"
   ]
  },
  {
   "cell_type": "code",
   "execution_count": 6,
   "id": "7f54537a-d549-42d0-b499-c2ca7c47904d",
   "metadata": {},
   "outputs": [
    {
     "name": "stdout",
     "output_type": "stream",
     "text": [
      "True\n"
     ]
    }
   ],
   "source": [
    "print(img.isOpened())"
   ]
  },
  {
   "cell_type": "code",
   "execution_count": 7,
   "id": "fd53251e-25f5-40e0-b383-76708198abdf",
   "metadata": {},
   "outputs": [
    {
     "data": {
      "text/plain": [
       "array([[1, 1, 1],\n",
       "       [1, 1, 1],\n",
       "       [1, 1, 1]], dtype=uint8)"
      ]
     },
     "execution_count": 7,
     "metadata": {},
     "output_type": "execute_result"
    }
   ],
   "source": [
    "kernel = np.ones((3,3),np.uint8)\n",
    "kernel"
   ]
  },
  {
   "cell_type": "code",
   "execution_count": 9,
   "id": "ace8c1c1",
   "metadata": {},
   "outputs": [],
   "source": [
    "while(img.isOpened()):\n",
    "    ret, frame = img.read()\n",
    "    GREY=cv2.cvtColor(frame,cv2.COLOR_BGR2GRAY)\n",
    "    ret,thresh1 = cv2.threshold(GREY, 200,255,cv2.THRESH_BINARY)\n",
    "    erosion = cv2.erode(thresh1 , kernel , iterations = 1)\n",
    "    dilation = cv2.dilate(thresh1 , kernel , iterations = 1)\n",
    "    open = cv2.morphologyEx(thresh1 , cv2.MORPH_OPEN , kernel)\n",
    "    close = cv2.morphologyEx(thresh1 , cv2.MORPH_CLOSE , kernel)\n",
    "    gradient =  cv2.morphologyEx(thresh1 , cv2.MORPH_GRADIENT , kernel)\n",
    "    tophat =  cv2.morphologyEx(thresh1, cv2.MORPH_TOPHAT , kernel)\n",
    "    blackhat =  cv2.morphologyEx(thresh1 , cv2.MORPH_BLACKHAT, kernel)\n",
    "    cv2.imshow('video',frame)\n",
    "    cv2.imshow('Grey' ,GREY)\n",
    "    cv2.imshow(' erosion', erosion)\n",
    "    cv2.imshow('dilation' ,dilation)\n",
    "    cv2.imshow('open',open)\n",
    "    cv2.imshow('close' ,close)\n",
    "    cv2.imshow(' gradient' , gradient)\n",
    "    cv2.imshow('tophat',tophat)\n",
    "    cv2.imshow('blackhat' ,blackhat)\n",
    "    \n",
    "    \n",
    "    \n",
    "    if cv2.waitKey(100) & 0xFF == ord('q'):\n",
    "        break\n",
    "                \n",
    "img.release() \n",
    "cv2.destroyAllWindows()"
   ]
  },
  {
   "cell_type": "code",
   "execution_count": null,
   "id": "08770572",
   "metadata": {},
   "outputs": [],
   "source": []
  },
  {
   "cell_type": "code",
   "execution_count": null,
   "id": "ee9f5dc2",
   "metadata": {},
   "outputs": [],
   "source": [
    "\n"
   ]
  }
 ],
 "metadata": {
  "kernelspec": {
   "display_name": "Python 3 (ipykernel)",
   "language": "python",
   "name": "python3"
  },
  "language_info": {
   "codemirror_mode": {
    "name": "ipython",
    "version": 3
   },
   "file_extension": ".py",
   "mimetype": "text/x-python",
   "name": "python",
   "nbconvert_exporter": "python",
   "pygments_lexer": "ipython3",
   "version": "3.9.13"
  }
 },
 "nbformat": 4,
 "nbformat_minor": 5
}
